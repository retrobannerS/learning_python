{
 "cells": [
  {
   "cell_type": "markdown",
   "metadata": {},
   "source": [
    "В Python версии `3.10` появился оператор `match`, подобный оператору `switch` в `C++`. Аналогом `default` является последний оператор `case`:"
   ]
  },
  {
   "cell_type": "code",
   "execution_count": 4,
   "metadata": {},
   "outputs": [
    {
     "name": "stdout",
     "output_type": "stream",
     "text": [
      "1\n",
      "1\n",
      "2\n",
      "3\n"
     ]
    }
   ],
   "source": [
    "color1 = \"black\"\n",
    "color2 = \"white\"\n",
    "color3 = \"grey\"\n",
    "color4 = \"blue\"\n",
    "\n",
    "match color1:\n",
    "    case \"black\" | \"white\":\n",
    "        print(\"1\")\n",
    "    case \"grey\":\n",
    "        print(\"2\")\n",
    "    case \"kek\":\n",
    "        print(\"3\")\n",
    "\n",
    "match color2:\n",
    "    case \"black\" | \"white\":\n",
    "        print(\"1\")\n",
    "    case \"grey\":\n",
    "        print(\"2\")\n",
    "    case \"kek\":\n",
    "        print(\"3\")\n",
    "\n",
    "match color3:\n",
    "    case \"black\" | \"white\":\n",
    "        print(\"1\")\n",
    "    case \"grey\":\n",
    "        print(\"2\")\n",
    "    case \"kek\":\n",
    "        print(\"3\")\n",
    "\n",
    "match color4:\n",
    "    case \"black\" | \"white\":\n",
    "        print(\"1\")\n",
    "    case \"grey\":\n",
    "        print(\"2\")\n",
    "    case _:\n",
    "        print(\"3\")\n",
    "\n",
    "match color4:\n",
    "    case \"black\" | \"white\":\n",
    "        print(\"1\")\n",
    "    case \"grey\":\n",
    "        print(\"2\")\n",
    "    case \"kek\":\n",
    "        print(\"3\")"
   ]
  },
  {
   "cell_type": "markdown",
   "metadata": {},
   "source": [
    "Здесь стоит заметить последние два `matcha`. `case _:` ~ `default` в `C++`, но есть возможность его не вставлять совсем.\n",
    "Так же стоит обратить внимание, что здесь не используется оператор `or`, так как мы не сравниваем логические переменные. Мы используем `|` чтобы выбрать значение."
   ]
  }
 ],
 "metadata": {
  "kernelspec": {
   "display_name": "Python 3",
   "language": "python",
   "name": "python3"
  },
  "language_info": {
   "codemirror_mode": {
    "name": "ipython",
    "version": 3
   },
   "file_extension": ".py",
   "mimetype": "text/x-python",
   "name": "python",
   "nbconvert_exporter": "python",
   "pygments_lexer": "ipython3",
   "version": "3.12.3"
  }
 },
 "nbformat": 4,
 "nbformat_minor": 2
}
