{
 "cells": [
  {
   "cell_type": "markdown",
   "metadata": {},
   "source": [
    "## `else` в циклах, а также влияние `break` на их поведение\n",
    "\n",
    "Я думаю с работой циклов `while` и `for` всё понятно. А также понятна работа `break` для них. Однако после этих циклов иногда указывается оператора `else`. Код после этого оператора работает после всего цикла."
   ]
  },
  {
   "cell_type": "code",
   "execution_count": null,
   "metadata": {},
   "outputs": [],
   "source": [
    "while input(\"Введите строку (СТОП для остановки): \") != \"СТОП\":\n",
    "    pass\n",
    "else:\n",
    "    print(\"Цикл завершён\")"
   ]
  },
  {
   "cell_type": "markdown",
   "metadata": {},
   "source": [
    "Но `break` в цикле не даст оператору `else` сработать."
   ]
  },
  {
   "cell_type": "code",
   "execution_count": null,
   "metadata": {},
   "outputs": [],
   "source": [
    "while (text := input(\"Введите строку (СТОП для остановки): \")) != \"СТОП\":\n",
    "    if text == \"ignore_else\":\n",
    "        break\n",
    "else:\n",
    "    print(\"Цикл завершён\")"
   ]
  }
 ],
 "metadata": {
  "language_info": {
   "name": "python"
  }
 },
 "nbformat": 4,
 "nbformat_minor": 2
}
