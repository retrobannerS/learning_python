{
 "cells": [
  {
   "cell_type": "markdown",
   "metadata": {},
   "source": [
    "# Декораторы функций"
   ]
  },
  {
   "cell_type": "markdown",
   "metadata": {},
   "source": [
    "## Самое простое исполнение"
   ]
  },
  {
   "cell_type": "markdown",
   "metadata": {},
   "source": [
    "Концепция: пусть у нас есть некоторая функция `simple_decorator`, параметром которой является ссылка на некоторую другую функцию.\n",
    "Самая простая реализация декоратора - когда мы подменяем ссылку на исходную функцию `func` на функцию `wrapper`. \n",
    "Вот как это выглядит:"
   ]
  },
  {
   "cell_type": "code",
   "execution_count": 2,
   "metadata": {},
   "outputs": [
    {
     "name": "stdout",
     "output_type": "stream",
     "text": [
      "Вызов исходной функции my_func\n"
     ]
    }
   ],
   "source": [
    "def func_decorator(func):\n",
    "    def wrapper():\n",
    "        print(\"--- Оборотка до функции ---\")\n",
    "        func()\n",
    "        print(\"--- Оборотка после функции ---\")\n",
    "\n",
    "    return wrapper\n",
    "\n",
    "\n",
    "def my_func():\n",
    "    print(\"Вызов исходной функции my_func\")\n",
    "\n",
    "\n",
    "my_func()"
   ]
  },
  {
   "cell_type": "markdown",
   "metadata": {},
   "source": [
    "Запишем в переменную `new_my_func` ссылку на функцию **`wrapper`**."
   ]
  },
  {
   "cell_type": "code",
   "execution_count": 5,
   "metadata": {},
   "outputs": [
    {
     "name": "stdout",
     "output_type": "stream",
     "text": [
      "--- Оборотка до функции ---\n",
      "Вызов исходной функции my_func\n",
      "--- Оборотка после функции ---\n"
     ]
    }
   ],
   "source": [
    "new_my_func = func_decorator(my_func)\n",
    "new_my_func()"
   ]
  },
  {
   "cell_type": "markdown",
   "metadata": {},
   "source": [
    "Как видим, мы вызвали не сам **`my_func`**, а обертку **`wrapper`**."
   ]
  },
  {
   "cell_type": "markdown",
   "metadata": {},
   "source": [
    "Но обычно поступают проще, просто переименовывая **`my_func`**:"
   ]
  },
  {
   "cell_type": "code",
   "execution_count": 7,
   "metadata": {},
   "outputs": [
    {
     "name": "stdout",
     "output_type": "stream",
     "text": [
      "--- Оборотка до функции ---\n",
      "--- Оборотка до функции ---\n",
      "Вызов исходной функции my_func\n",
      "--- Оборотка после функции ---\n",
      "--- Оборотка после функции ---\n"
     ]
    }
   ],
   "source": [
    "my_func = func_decorator(my_func)\n",
    "my_func()"
   ]
  },
  {
   "cell_type": "markdown",
   "metadata": {},
   "source": [
    "**Замечание**: если мы немного поменяем функцию **`my_func`**, например, добавив в нее параметр, то работать это уже не будет:"
   ]
  },
  {
   "cell_type": "code",
   "execution_count": 16,
   "metadata": {},
   "outputs": [
    {
     "ename": "TypeError",
     "evalue": "func_decorator.<locals>.wrapper() takes 0 positional arguments but 1 was given",
     "output_type": "error",
     "traceback": [
      "\u001b[0;31m---------------------------------------------------------------------------\u001b[0m",
      "\u001b[0;31mTypeError\u001b[0m                                 Traceback (most recent call last)",
      "Cell \u001b[0;32mIn[16], line 6\u001b[0m\n\u001b[1;32m      2\u001b[0m     \u001b[38;5;28mprint\u001b[39m(\u001b[38;5;124mf\u001b[39m\u001b[38;5;124m\"\u001b[39m\u001b[38;5;124mВызов исходной функции my_func c параметром \u001b[39m\u001b[38;5;132;01m{\u001b[39;00mparam\u001b[38;5;132;01m}\u001b[39;00m\u001b[38;5;124m\"\u001b[39m)\n\u001b[1;32m      5\u001b[0m my_func2 \u001b[38;5;241m=\u001b[39m func_decorator(my_func2)\n\u001b[0;32m----> 6\u001b[0m \u001b[43mmy_func2\u001b[49m\u001b[43m(\u001b[49m\u001b[38;5;124;43m\"\u001b[39;49m\u001b[38;5;124;43mparam\u001b[39;49m\u001b[38;5;124;43m\"\u001b[39;49m\u001b[43m)\u001b[49m\n",
      "\u001b[0;31mTypeError\u001b[0m: func_decorator.<locals>.wrapper() takes 0 positional arguments but 1 was given"
     ]
    }
   ],
   "source": [
    "def my_func2(param):\n",
    "    print(f\"Вызов исходной функции my_func c параметром {param}\")\n",
    "\n",
    "\n",
    "my_func2 = func_decorator(my_func2)\n",
    "my_func2(\"param\")"
   ]
  },
  {
   "cell_type": "markdown",
   "metadata": {},
   "source": [
    "Для *избегания* этой ошибки просто функции **`wrapper`** предоставляем нужный параметр:"
   ]
  },
  {
   "cell_type": "code",
   "execution_count": 22,
   "metadata": {},
   "outputs": [
    {
     "name": "stdout",
     "output_type": "stream",
     "text": [
      "--- Обработка до функции ---\n",
      "--- Обработка до функции ---\n",
      "--- Обработка до функции ---\n",
      "--- Обработка до функции ---\n",
      "--- Обработка до функции ---\n",
      "--- Обработка до функции ---\n"
     ]
    },
    {
     "ename": "TypeError",
     "evalue": "func_decorator.<locals>.wrapper() takes 0 positional arguments but 1 was given",
     "output_type": "error",
     "traceback": [
      "\u001b[0;31m---------------------------------------------------------------------------\u001b[0m",
      "\u001b[0;31mTypeError\u001b[0m                                 Traceback (most recent call last)",
      "Cell \u001b[0;32mIn[22], line 11\u001b[0m\n\u001b[1;32m      7\u001b[0m     \u001b[38;5;28;01mreturn\u001b[39;00m wrapper2\n\u001b[1;32m     10\u001b[0m my_func2 \u001b[38;5;241m=\u001b[39m func_decorator2(my_func2)\n\u001b[0;32m---> 11\u001b[0m \u001b[43mmy_func2\u001b[49m\u001b[43m(\u001b[49m\u001b[38;5;124;43m\"\u001b[39;49m\u001b[38;5;124;43mparam\u001b[39;49m\u001b[38;5;124;43m\"\u001b[39;49m\u001b[43m)\u001b[49m\n",
      "Cell \u001b[0;32mIn[22], line 4\u001b[0m, in \u001b[0;36mfunc_decorator2.<locals>.wrapper2\u001b[0;34m(param)\u001b[0m\n\u001b[1;32m      2\u001b[0m \u001b[38;5;28;01mdef\u001b[39;00m \u001b[38;5;21mwrapper2\u001b[39m(param):\n\u001b[1;32m      3\u001b[0m     \u001b[38;5;28mprint\u001b[39m(\u001b[38;5;124m\"\u001b[39m\u001b[38;5;124m--- Обработка до функции ---\u001b[39m\u001b[38;5;124m\"\u001b[39m)\n\u001b[0;32m----> 4\u001b[0m     \u001b[43mfunc\u001b[49m\u001b[43m(\u001b[49m\u001b[43mparam\u001b[49m\u001b[43m)\u001b[49m\n\u001b[1;32m      5\u001b[0m     \u001b[38;5;28mprint\u001b[39m(\u001b[38;5;124m\"\u001b[39m\u001b[38;5;124m--- Обработка после функции ---\u001b[39m\u001b[38;5;124m\"\u001b[39m)\n",
      "Cell \u001b[0;32mIn[21], line 4\u001b[0m, in \u001b[0;36mfunc_decorator2.<locals>.wrapper\u001b[0;34m(param)\u001b[0m\n\u001b[1;32m      2\u001b[0m \u001b[38;5;28;01mdef\u001b[39;00m \u001b[38;5;21mwrapper\u001b[39m(param):\n\u001b[1;32m      3\u001b[0m     \u001b[38;5;28mprint\u001b[39m(\u001b[38;5;124m\"\u001b[39m\u001b[38;5;124m--- Обработка до функции ---\u001b[39m\u001b[38;5;124m\"\u001b[39m)\n\u001b[0;32m----> 4\u001b[0m     \u001b[43mfunc\u001b[49m\u001b[43m(\u001b[49m\u001b[43mparam\u001b[49m\u001b[43m)\u001b[49m\n\u001b[1;32m      5\u001b[0m     \u001b[38;5;28mprint\u001b[39m(\u001b[38;5;124m\"\u001b[39m\u001b[38;5;124m--- Обработка после функции ---\u001b[39m\u001b[38;5;124m\"\u001b[39m)\n",
      "Cell \u001b[0;32mIn[21], line 4\u001b[0m, in \u001b[0;36mfunc_decorator2.<locals>.wrapper\u001b[0;34m(param)\u001b[0m\n\u001b[1;32m      2\u001b[0m \u001b[38;5;28;01mdef\u001b[39;00m \u001b[38;5;21mwrapper\u001b[39m(param):\n\u001b[1;32m      3\u001b[0m     \u001b[38;5;28mprint\u001b[39m(\u001b[38;5;124m\"\u001b[39m\u001b[38;5;124m--- Обработка до функции ---\u001b[39m\u001b[38;5;124m\"\u001b[39m)\n\u001b[0;32m----> 4\u001b[0m     \u001b[43mfunc\u001b[49m\u001b[43m(\u001b[49m\u001b[43mparam\u001b[49m\u001b[43m)\u001b[49m\n\u001b[1;32m      5\u001b[0m     \u001b[38;5;28mprint\u001b[39m(\u001b[38;5;124m\"\u001b[39m\u001b[38;5;124m--- Обработка после функции ---\u001b[39m\u001b[38;5;124m\"\u001b[39m)\n",
      "    \u001b[0;31m[... skipping similar frames: func_decorator2.<locals>.wrapper at line 4 (2 times)]\u001b[0m\n",
      "Cell \u001b[0;32mIn[21], line 4\u001b[0m, in \u001b[0;36mfunc_decorator2.<locals>.wrapper\u001b[0;34m(param)\u001b[0m\n\u001b[1;32m      2\u001b[0m \u001b[38;5;28;01mdef\u001b[39;00m \u001b[38;5;21mwrapper\u001b[39m(param):\n\u001b[1;32m      3\u001b[0m     \u001b[38;5;28mprint\u001b[39m(\u001b[38;5;124m\"\u001b[39m\u001b[38;5;124m--- Обработка до функции ---\u001b[39m\u001b[38;5;124m\"\u001b[39m)\n\u001b[0;32m----> 4\u001b[0m     \u001b[43mfunc\u001b[49m\u001b[43m(\u001b[49m\u001b[43mparam\u001b[49m\u001b[43m)\u001b[49m\n\u001b[1;32m      5\u001b[0m     \u001b[38;5;28mprint\u001b[39m(\u001b[38;5;124m\"\u001b[39m\u001b[38;5;124m--- Обработка после функции ---\u001b[39m\u001b[38;5;124m\"\u001b[39m)\n",
      "\u001b[0;31mTypeError\u001b[0m: func_decorator.<locals>.wrapper() takes 0 positional arguments but 1 was given"
     ]
    }
   ],
   "source": [
    "def func_decorator2(func):\n",
    "    def wrapper2(param):\n",
    "        print(\"--- Обработка до функции ---\")\n",
    "        func(param)\n",
    "        print(\"--- Обработка после функции ---\")\n",
    "\n",
    "    return wrapper2\n",
    "\n",
    "\n",
    "my_func2 = func_decorator2(my_func2)\n",
    "my_func2(\"param\")"
   ]
  },
  {
   "cell_type": "markdown",
   "metadata": {},
   "source": [
    "И все равно не на всех версиях `Python` это сработает. Тогда сделаем универсальный способ декорирования функций:"
   ]
  },
  {
   "cell_type": "code",
   "execution_count": 24,
   "metadata": {},
   "outputs": [
    {
     "name": "stdout",
     "output_type": "stream",
     "text": [
      "--- Обработка до функции ---\n",
      "10\n",
      "--- Обработка после функции ---\n"
     ]
    }
   ],
   "source": [
    "def universal_decorator(func):\n",
    "    def wrapper(*args, **kwargs):\n",
    "        print(\"--- Обработка до функции ---\")\n",
    "        func(*args, **kwargs)\n",
    "        print(\"--- Обработка после функции ---\")\n",
    "\n",
    "    return wrapper\n",
    "\n",
    "\n",
    "def my_func(x, y, z, t):\n",
    "    print(x + y + z + t)\n",
    "\n",
    "\n",
    "my_func = universal_decorator(my_func)\n",
    "my_func(1, 2, 3, 4)"
   ]
  },
  {
   "cell_type": "markdown",
   "metadata": {},
   "source": [
    "Последний штрих: если **`my_func`** будет что-то возвращать, то опять все сломается:"
   ]
  },
  {
   "cell_type": "code",
   "execution_count": 26,
   "metadata": {},
   "outputs": [
    {
     "name": "stdout",
     "output_type": "stream",
     "text": [
      "--- Обработка до функции ---\n",
      "Вызов функции my_func\n",
      "--- Обработка после функции ---\n",
      "None\n"
     ]
    }
   ],
   "source": [
    "def my_func(x, y, z, t):\n",
    "    print(\"Вызов функции my_func\")\n",
    "    return x + y + z + t\n",
    "\n",
    "\n",
    "my_func = universal_decorator(my_func)\n",
    "result = my_func(1, 2, 3, 4)\n",
    "print(result)"
   ]
  },
  {
   "cell_type": "markdown",
   "metadata": {},
   "source": [
    "Напишем тогда декоратор и для такого случая:"
   ]
  },
  {
   "cell_type": "code",
   "execution_count": 35,
   "metadata": {},
   "outputs": [
    {
     "name": "stdout",
     "output_type": "stream",
     "text": [
      "--- Обработка до функции ---\n",
      "Вызов функции my_func\n",
      "--- Обработка после функции ---\n",
      "10\n"
     ]
    }
   ],
   "source": [
    "def decorator(func):\n",
    "    def wrapper(*args, **kwargs):\n",
    "        print(\"--- Обработка до функции ---\")\n",
    "        result = func(*args, **kwargs)\n",
    "        print(\"--- Обработка после функции ---\")\n",
    "        return result\n",
    "\n",
    "    return wrapper\n",
    "\n",
    "\n",
    "def my_func(x, y, z, t):\n",
    "    print(\"Вызов функции my_func\")\n",
    "    return x + y + z + t\n",
    "\n",
    "\n",
    "my_func = decorator(my_func)\n",
    "print(my_func(1, 2, 3, 4))"
   ]
  },
  {
   "cell_type": "markdown",
   "metadata": {},
   "source": [
    "### Смысл написанного выше кода"
   ]
  },
  {
   "cell_type": "markdown",
   "metadata": {},
   "source": [
    "Представим, что нам нужно протестировать функции на скорость их выполнения.\n",
    "\n",
    "Давайте напишем функцию, вычисляющую наибольший общий делитель (медленный алгоритм Евклида):"
   ]
  },
  {
   "cell_type": "code",
   "execution_count": 40,
   "metadata": {},
   "outputs": [
    {
     "name": "stdout",
     "output_type": "stream",
     "text": [
      "1\n",
      "6\n"
     ]
    }
   ],
   "source": [
    "def nod(a, b):\n",
    "    while a != b:\n",
    "        if a > b:\n",
    "            a -= b\n",
    "        else:\n",
    "            b -= a\n",
    "    return a\n",
    "\n",
    "\n",
    "print(nod(7, 11))\n",
    "print(nod(24, 6))"
   ]
  },
  {
   "cell_type": "markdown",
   "metadata": {},
   "source": [
    "И декоратор-секундомер к нему:"
   ]
  },
  {
   "cell_type": "code",
   "execution_count": 42,
   "metadata": {},
   "outputs": [
    {
     "name": "stdout",
     "output_type": "stream",
     "text": [
      "Время работы функции: 9.059906005859375e-06\n",
      "1\n",
      "Время работы функции: 2.288818359375e-05\n",
      "1\n",
      "Время работы функции: 4.573429107666016\n",
      "2\n"
     ]
    }
   ],
   "source": [
    "import time\n",
    "\n",
    "\n",
    "def stop_watch(func):\n",
    "    def wrapper(*args, **kwargs):\n",
    "        start = time.time()\n",
    "        result = func(*args, **kwargs)\n",
    "        finish = time.time()\n",
    "        delta = finish - start\n",
    "        print(f\"Время работы функции: {delta}\")\n",
    "        return result\n",
    "\n",
    "    return wrapper\n",
    "\n",
    "\n",
    "time_nod = stop_watch(nod)\n",
    "print(time_nod(7, 11))\n",
    "print(time_nod(5672348, 32147329))\n",
    "print(time_nod(2, 100000000))"
   ]
  },
  {
   "cell_type": "markdown",
   "metadata": {},
   "source": [
    "На реальной практике этой херней с переименованием ссылки на функцию никто не занимается. В современном `Python` все пишут что-то такое:"
   ]
  },
  {
   "cell_type": "code",
   "execution_count": 43,
   "metadata": {},
   "outputs": [
    {
     "name": "stdout",
     "output_type": "stream",
     "text": [
      "Время работы функции: 1.4781951904296875e-05\n",
      "1\n",
      "Время работы функции: 2.193450927734375e-05\n",
      "1\n",
      "Время работы функции: 4.882281064987183\n",
      "2\n"
     ]
    }
   ],
   "source": [
    "def stop_watch(func):\n",
    "    def wrapper(*args, **kwargs):\n",
    "        start = time.time()\n",
    "        result = func(*args, **kwargs)\n",
    "        finish = time.time()\n",
    "        delta = finish - start\n",
    "        print(f\"Время работы функции: {delta}\")\n",
    "        return result\n",
    "\n",
    "    return wrapper\n",
    "\n",
    "\n",
    "@stop_watch\n",
    "def nod(a, b):\n",
    "    while a != b:\n",
    "        if a > b:\n",
    "            a -= b\n",
    "        else:\n",
    "            b -= a\n",
    "    return a\n",
    "\n",
    "\n",
    "print(nod(7, 11))\n",
    "print(nod(5672348, 32147329))\n",
    "print(nod(2, 100000000))"
   ]
  },
  {
   "cell_type": "markdown",
   "metadata": {},
   "source": [
    "## Декораторы посложнее. Декораторы с параметром"
   ]
  },
  {
   "cell_type": "markdown",
   "metadata": {},
   "source": [
    "Пусть мы хотим создать декоратор, вычисляющий производную некоторой математической функции. Пусть это будет $f(x) = x^2*e^x$.\n",
    "\n",
    "В самом простом исполнении это выглядит следующим образом:"
   ]
  },
  {
   "cell_type": "code",
   "execution_count": 46,
   "metadata": {},
   "outputs": [
    {
     "name": "stdout",
     "output_type": "stream",
     "text": [
      "0.00010001000050001668\n",
      "8.155796942914684\n",
      "3.0003500216672117\n"
     ]
    }
   ],
   "source": [
    "import math\n",
    "\n",
    "\n",
    "def der(func):\n",
    "    def wrapper(x, *args, **kwargs):\n",
    "        dx = 0.0001\n",
    "        der = (func(x + dx, *args, **kwargs) - func(x, *args, **kwargs)) / dx\n",
    "        return der\n",
    "\n",
    "    return wrapper\n",
    "\n",
    "\n",
    "@der\n",
    "def f(x):\n",
    "    return x * x * math.exp(x)\n",
    "\n",
    "\n",
    "# Напомню, что f'(x) = (x^2*exp(x))' = x*(x+2)*exp(x)\n",
    "\n",
    "print(f(0))\n",
    "print(f(1))\n",
    "print(f(1) / math.exp(1))"
   ]
  },
  {
   "cell_type": "markdown",
   "metadata": {},
   "source": [
    "Все получилось, но точность может нас не всегда устраивать. Точность здесь задается переменной `dx`: чем она меньше, тем точность больше. Давайте попробуем отрегулировать точность:"
   ]
  },
  {
   "cell_type": "code",
   "execution_count": 47,
   "metadata": {},
   "outputs": [
    {
     "ename": "TypeError",
     "evalue": "der() missing 1 required positional argument: 'func'",
     "output_type": "error",
     "traceback": [
      "\u001b[0;31m---------------------------------------------------------------------------\u001b[0m",
      "\u001b[0;31mTypeError\u001b[0m                                 Traceback (most recent call last)",
      "Cell \u001b[0;32mIn[47], line 9\u001b[0m\n\u001b[1;32m      4\u001b[0m         \u001b[38;5;28;01mreturn\u001b[39;00m der\n\u001b[1;32m      6\u001b[0m     \u001b[38;5;28;01mreturn\u001b[39;00m wrapper\n\u001b[0;32m----> 9\u001b[0m \u001b[38;5;129m@der\u001b[39m\u001b[43m(\u001b[49m\u001b[43mdx\u001b[49m\u001b[38;5;241;43m=\u001b[39;49m\u001b[38;5;241;43m0.1\u001b[39;49m\u001b[43m)\u001b[49m\n\u001b[1;32m     10\u001b[0m \u001b[38;5;28;01mdef\u001b[39;00m \u001b[38;5;21mf\u001b[39m(x):\n\u001b[1;32m     11\u001b[0m     \u001b[38;5;28;01mreturn\u001b[39;00m x \u001b[38;5;241m*\u001b[39m x \u001b[38;5;241m*\u001b[39m math\u001b[38;5;241m.\u001b[39mexp(x)\n\u001b[1;32m     14\u001b[0m \u001b[38;5;28mprint\u001b[39m(f(\u001b[38;5;241m0\u001b[39m))\n",
      "\u001b[0;31mTypeError\u001b[0m: der() missing 1 required positional argument: 'func'"
     ]
    }
   ],
   "source": [
    "def der(func, dx=0.0001):\n",
    "    def wrapper(x, *args, **kwargs):\n",
    "        der = (func(x + dx, *args, **kwargs) - func(x, *args, **kwargs)) / dx\n",
    "        return der\n",
    "\n",
    "    return wrapper\n",
    "\n",
    "\n",
    "@der(dx=0.1)\n",
    "def f(x):\n",
    "    return x * x * math.exp(x)\n",
    "\n",
    "\n",
    "print(f(0))"
   ]
  },
  {
   "cell_type": "markdown",
   "metadata": {},
   "source": [
    "Не работает :( . В `Python` правильно писать следующий синтаксис, обернув еще в одну функцию:"
   ]
  },
  {
   "cell_type": "code",
   "execution_count": 52,
   "metadata": {},
   "outputs": [
    {
     "name": "stdout",
     "output_type": "stream",
     "text": [
      "0.11051709180756479\n",
      "0.00010001000050001668\n",
      "1.00000000000001e-14\n"
     ]
    }
   ],
   "source": [
    "def MAIN_DECORATOR(dx=0.0001):\n",
    "    def der(func):\n",
    "        def wrapper(x, *args, **kwargs):\n",
    "            der = (func(x + dx, *args, **kwargs) -\n",
    "                   func(x, *args, **kwargs)) / dx\n",
    "            return der\n",
    "\n",
    "        return wrapper\n",
    "\n",
    "    return der\n",
    "\n",
    "\n",
    "@MAIN_DECORATOR(dx=0.1)\n",
    "def f(x):\n",
    "    return x * x * math.exp(x)\n",
    "\n",
    "\n",
    "print(f(0))\n",
    "\n",
    "\n",
    "@MAIN_DECORATOR()\n",
    "def f(x):\n",
    "    return x * x * math.exp(x)\n",
    "\n",
    "\n",
    "print(f(0))\n",
    "\n",
    "\n",
    "@MAIN_DECORATOR(dx=0.00000000000001)\n",
    "def f(x):\n",
    "    return x * x * math.exp(x)\n",
    "\n",
    "\n",
    "print(f(0))"
   ]
  },
  {
   "cell_type": "markdown",
   "metadata": {},
   "source": [
    "Ура! Все работает! Как видим, точность улучшается. Давайте на последок посмотрим, как бы мы это делали без `@`:"
   ]
  },
  {
   "cell_type": "code",
   "execution_count": 55,
   "metadata": {},
   "outputs": [
    {
     "name": "stdout",
     "output_type": "stream",
     "text": [
      "1.00000001e-08\n"
     ]
    }
   ],
   "source": [
    "def MAIN_DECORATOR(dx=0.0001):\n",
    "    def der(func):\n",
    "        def wrapper(x, *args, **kwargs):\n",
    "            der = (func(x + dx, *args, **kwargs) - func(x, *args, **kwargs)) / dx\n",
    "            return der\n",
    "\n",
    "        return wrapper\n",
    "\n",
    "    return der\n",
    "\n",
    "\n",
    "def f(x):\n",
    "    return x * x * math.exp(x)\n",
    "\n",
    "\n",
    "der_f = MAIN_DECORATOR(dx=0.00000001)(f)\n",
    "print(der_f(0))"
   ]
  },
  {
   "cell_type": "markdown",
   "metadata": {},
   "source": [
    "## Проблема потери имени функции и ее документации"
   ]
  },
  {
   "cell_type": "markdown",
   "metadata": {},
   "source": [
    "Рассмотрим простейший случай:"
   ]
  },
  {
   "cell_type": "code",
   "execution_count": 57,
   "metadata": {},
   "outputs": [
    {
     "name": "stdout",
     "output_type": "stream",
     "text": [
      "func\n",
      "Константа ноль\n",
      "\n",
      "wrapper\n",
      "None\n"
     ]
    }
   ],
   "source": [
    "def decorator(func):\n",
    "    def wrapper(*args, **kwargs):\n",
    "        func(*args, **kwargs)\n",
    "\n",
    "    return wrapper\n",
    "\n",
    "\n",
    "def func():\n",
    "    \"\"\"Константа ноль\"\"\"\n",
    "    return 0\n",
    "\n",
    "\n",
    "print(func.__name__)\n",
    "print(func.__doc__)\n",
    "\n",
    "print(\"\")\n",
    "\n",
    "\n",
    "@decorator\n",
    "def func():\n",
    "    \"\"\"Константа ноль\"\"\"\n",
    "    return 0\n",
    "\n",
    "\n",
    "print(func.__name__)\n",
    "print(func.__doc__)"
   ]
  },
  {
   "cell_type": "markdown",
   "metadata": {},
   "source": [
    "И замечаем здесь утерю возможно ценной информации. Хорошим тоном правильно было бы сделать так:"
   ]
  },
  {
   "cell_type": "code",
   "execution_count": 59,
   "metadata": {},
   "outputs": [
    {
     "name": "stdout",
     "output_type": "stream",
     "text": [
      "func\n",
      "Константа ноль\n",
      "\n",
      "func\n",
      "Константа ноль\n"
     ]
    }
   ],
   "source": [
    "def decorator(func):\n",
    "    def wrapper(*args, **kwargs):\n",
    "        func(*args, **kwargs)\n",
    "\n",
    "    wrapper.__name__ = func.__name__\n",
    "    wrapper.__doc__ = func.__doc__\n",
    "    return wrapper\n",
    "\n",
    "\n",
    "def func():\n",
    "    \"\"\"Константа ноль\"\"\"\n",
    "    return 0\n",
    "\n",
    "\n",
    "print(func.__name__)\n",
    "print(func.__doc__)\n",
    "\n",
    "print(\"\")\n",
    "\n",
    "\n",
    "@decorator\n",
    "def func():\n",
    "    \"\"\"Константа ноль\"\"\"\n",
    "    return 0\n",
    "\n",
    "\n",
    "print(func.__name__)\n",
    "print(func.__doc__)"
   ]
  },
  {
   "cell_type": "markdown",
   "metadata": {},
   "source": [
    "Это настолько стандартный подход, что он стандартизирован языком `Python`. Вместо этих двух строчек \n",
    "```python\n",
    "wrapper.__name__ = func.__name__\n",
    "wrapper.__doc__ = func.__doc__\n",
    "```\n",
    "\n",
    "Можем декорировать `wrapper` декоратором `wraps` из стандартной библиотеки:"
   ]
  },
  {
   "cell_type": "code",
   "execution_count": 60,
   "metadata": {},
   "outputs": [
    {
     "name": "stdout",
     "output_type": "stream",
     "text": [
      "func\n",
      "Константа ноль\n",
      "\n",
      "func\n",
      "Константа ноль\n"
     ]
    }
   ],
   "source": [
    "from functools import wraps\n",
    "\n",
    "\n",
    "def decorator(func):\n",
    "    @wraps(func)\n",
    "    def wrapper(*args, **kwargs):\n",
    "        func(*args, **kwargs)\n",
    "\n",
    "    return wrapper\n",
    "\n",
    "\n",
    "def func():\n",
    "    \"\"\"Константа ноль\"\"\"\n",
    "    return 0\n",
    "\n",
    "\n",
    "print(func.__name__)\n",
    "print(func.__doc__)\n",
    "\n",
    "print(\"\")\n",
    "\n",
    "\n",
    "@decorator\n",
    "def func():\n",
    "    \"\"\"Константа ноль\"\"\"\n",
    "    return 0\n",
    "\n",
    "\n",
    "print(func.__name__)\n",
    "print(func.__doc__)"
   ]
  }
 ],
 "metadata": {
  "kernelspec": {
   "display_name": "Python 3",
   "language": "python",
   "name": "python3"
  },
  "language_info": {
   "codemirror_mode": {
    "name": "ipython",
    "version": 3
   },
   "file_extension": ".py",
   "mimetype": "text/x-python",
   "name": "python",
   "nbconvert_exporter": "python",
   "pygments_lexer": "ipython3",
   "version": "3.12.3"
  }
 },
 "nbformat": 4,
 "nbformat_minor": 2
}
