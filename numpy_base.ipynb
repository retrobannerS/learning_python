{
 "cells": [
  {
   "cell_type": "markdown",
   "metadata": {},
   "source": [
    "В этом блокнотике я выписал только базовые операции из библиотеки. Чтобы разобрать все, потребуется очень много времени, да и нужно ли это?"
   ]
  },
  {
   "cell_type": "markdown",
   "metadata": {},
   "source": [
    "### Установка и импорт\n",
    "`NumPy` - нестандартная библиотека, поэтому ее нужно установить."
   ]
  },
  {
   "cell_type": "code",
   "execution_count": 2,
   "metadata": {},
   "outputs": [
    {
     "name": "stdout",
     "output_type": "stream",
     "text": [
      "Requirement already satisfied: numpy in /Library/Frameworks/Python.framework/Versions/3.12/lib/python3.12/site-packages (1.26.4)\n",
      "Note: you may need to restart the kernel to use updated packages.\n"
     ]
    }
   ],
   "source": [
    "%pip install numpy"
   ]
  },
  {
   "cell_type": "code",
   "execution_count": 3,
   "metadata": {},
   "outputs": [],
   "source": [
    "import numpy as np"
   ]
  },
  {
   "cell_type": "markdown",
   "metadata": {},
   "source": [
    "### Особенности библиотеки и первые строки кода.\n",
    "\n",
    "Безусловно, `numpy` - одна из самых распространенных библиотек для Python. Она частично написана на низкоуровневых языках `C` и `Fortran`, поэтому умеет очень быстро выполняться. Для этой библиотеки специфичен специальный тип данных - `Array`. По сравнению с обычным питоновским `list`, он способен хранить очень много значений, но платит за это хранением лишь одного типа данных."
   ]
  },
  {
   "cell_type": "code",
   "execution_count": 14,
   "metadata": {},
   "outputs": [
    {
     "name": "stdout",
     "output_type": "stream",
     "text": [
      "[1 2 3 4]\n",
      "[[1 2]\n",
      " [3 4]\n",
      " [5 6]]\n"
     ]
    }
   ],
   "source": [
    "a = np.array([1, 2, 3, 4])\n",
    "b = np.array([[1, 2], [3, 4], [5, 6]])\n",
    "print(a)\n",
    "print(b)"
   ]
  },
  {
   "cell_type": "markdown",
   "metadata": {},
   "source": [
    "Сразу хочу отметить про размерность массивов. В документации они называются осями - `axis`. Итак, массив `a` имеет одну ось длиной в 4 элемента, а массив `b` - две оси: первая(вертикальная) длиной 3 элемента и вторая(горизонтальная) на 2 элемента соответственно."
   ]
  },
  {
   "cell_type": "markdown",
   "metadata": {},
   "source": [
    "Количество осей;\n",
    "Размер матрицы `MxN`;\n",
    "Общее количество элементов;\n",
    "Тип данных элементов массива;\n",
    "Занимаемый одним элементом объем памяти;"
   ]
  },
  {
   "cell_type": "code",
   "execution_count": 25,
   "metadata": {},
   "outputs": [
    {
     "data": {
      "text/plain": [
       "(1, (3, 2), 6, dtype('int64'), 8)"
      ]
     },
     "execution_count": 25,
     "metadata": {},
     "output_type": "execute_result"
    }
   ],
   "source": [
    "a.ndim,\\\n",
    "b.shape,\\\n",
    "b.size,\\\n",
    "b.dtype,\\\n",
    "b.itemsize"
   ]
  },
  {
   "cell_type": "markdown",
   "metadata": {},
   "source": [
    "Создание массива с нестандартным типом данных:"
   ]
  },
  {
   "cell_type": "code",
   "execution_count": 26,
   "metadata": {},
   "outputs": [],
   "source": [
    "a = np.array([1, 2], dtype=\"uint8\")"
   ]
  },
  {
   "cell_type": "markdown",
   "metadata": {},
   "source": [
    "А что будет, если пытаться создать массив с числами и строками?"
   ]
  },
  {
   "cell_type": "code",
   "execution_count": 28,
   "metadata": {},
   "outputs": [
    {
     "name": "stdout",
     "output_type": "stream",
     "text": [
      "['123' 'text' '1' '2' '2.5'] <U32\n"
     ]
    }
   ],
   "source": [
    "c = np.array(['123', 'text', 1, 2, 2.5])\n",
    "print(c, c.dtype)"
   ]
  },
  {
   "cell_type": "markdown",
   "metadata": {},
   "source": [
    "Он просто перевел числа в строки!"
   ]
  },
  {
   "cell_type": "markdown",
   "metadata": {},
   "source": [
    "Часто используемые способы задать матрицу:"
   ]
  },
  {
   "cell_type": "code",
   "execution_count": 32,
   "metadata": {},
   "outputs": [
    {
     "name": "stdout",
     "output_type": "stream",
     "text": [
      "[[1. 1. 1. 1. 1. 1.]\n",
      " [1. 1. 1. 1. 1. 1.]\n",
      " [1. 1. 1. 1. 1. 1.]\n",
      " [1. 1. 1. 1. 1. 1.]\n",
      " [1. 1. 1. 1. 1. 1.]]\n",
      "\n",
      "[[0. 0. 0.]\n",
      " [0. 0. 0.]\n",
      " [0. 0. 0.]\n",
      " [0. 0. 0.]]\n",
      "\n",
      "[[1. 0. 0. 0. 0. 0. 0. 0. 0.]\n",
      " [0. 1. 0. 0. 0. 0. 0. 0. 0.]\n",
      " [0. 0. 1. 0. 0. 0. 0. 0. 0.]\n",
      " [0. 0. 0. 1. 0. 0. 0. 0. 0.]\n",
      " [0. 0. 0. 0. 1. 0. 0. 0. 0.]\n",
      " [0. 0. 0. 0. 0. 1. 0. 0. 0.]\n",
      " [0. 0. 0. 0. 0. 0. 1. 0. 0.]]\n"
     ]
    }
   ],
   "source": [
    "print(np.ones((5, 6)), np.zeros((4, 3)), np.eye(7, 9), sep='\\n\\n')"
   ]
  },
  {
   "cell_type": "markdown",
   "metadata": {},
   "source": [
    "Если нужно создать стандартные матрицы на основе уже имеющейся:"
   ]
  },
  {
   "cell_type": "code",
   "execution_count": 5,
   "metadata": {},
   "outputs": [
    {
     "name": "stdout",
     "output_type": "stream",
     "text": [
      "[[0 0 0]\n",
      " [0 0 0]\n",
      " [0 0 0]]\n",
      "\n",
      "[[1 1 1]\n",
      " [1 1 1]\n",
      " [1 1 1]]\n"
     ]
    }
   ],
   "source": [
    "A = np.array([[1, 2, 3], [4, 5, 6], [7, 8, 9]])\n",
    "print(np.zeros_like(A), np.ones_like(A), sep= '\\n\\n')"
   ]
  },
  {
   "cell_type": "markdown",
   "metadata": {},
   "source": [
    "Функция `arange`, похожая на стандартную `range`, только возвращающую массив:"
   ]
  },
  {
   "cell_type": "code",
   "execution_count": 33,
   "metadata": {},
   "outputs": [
    {
     "data": {
      "text/plain": [
       "array([1, 2, 3, 4, 5, 6, 7, 8, 9])"
      ]
     },
     "execution_count": 33,
     "metadata": {},
     "output_type": "execute_result"
    }
   ],
   "source": [
    "np.arange(1, 10)"
   ]
  },
  {
   "cell_type": "code",
   "execution_count": 34,
   "metadata": {},
   "outputs": [
    {
     "data": {
      "text/plain": [
       "array([0.5, 2. , 3.5, 5. , 6.5, 8. ])"
      ]
     },
     "execution_count": 34,
     "metadata": {},
     "output_type": "execute_result"
    }
   ],
   "source": [
    "np.arange(0.5, 9.5, 1.5)"
   ]
  },
  {
   "cell_type": "markdown",
   "metadata": {},
   "source": [
    "Функция `linspace()`, думаю по коду понятно, что она делает:"
   ]
  },
  {
   "cell_type": "code",
   "execution_count": 35,
   "metadata": {},
   "outputs": [
    {
     "data": {
      "text/plain": [
       "array([1.        , 2.33333333, 3.66666667, 5.        ])"
      ]
     },
     "execution_count": 35,
     "metadata": {},
     "output_type": "execute_result"
    }
   ],
   "source": [
    "np.linspace(1, 5, 4)"
   ]
  },
  {
   "cell_type": "code",
   "execution_count": 36,
   "metadata": {},
   "outputs": [
    {
     "data": {
      "text/plain": [
       "array([ 1.,  2.,  3.,  4.,  5.,  6.,  7.,  8.,  9., 10.])"
      ]
     },
     "execution_count": 36,
     "metadata": {},
     "output_type": "execute_result"
    }
   ],
   "source": [
    "np.linspace(1, 10, 10)"
   ]
  },
  {
   "cell_type": "code",
   "execution_count": 37,
   "metadata": {},
   "outputs": [
    {
     "data": {
      "text/plain": [
       "array([ 1.,  0., -1., -2., -3., -4., -5., -6., -7., -8.])"
      ]
     },
     "execution_count": 37,
     "metadata": {},
     "output_type": "execute_result"
    }
   ],
   "source": [
    "np.linspace(1, -8, 10)"
   ]
  },
  {
   "cell_type": "markdown",
   "metadata": {},
   "source": [
    "Изменения размеров.\n",
    "Функция `reshape` выдает новый массив. Функция `resize` меняет размерность исходного массива."
   ]
  },
  {
   "cell_type": "code",
   "execution_count": 44,
   "metadata": {},
   "outputs": [
    {
     "name": "stdout",
     "output_type": "stream",
     "text": [
      "[[1 2 3 4]\n",
      " [5 6 7 8]]\n",
      "\n",
      "[[1 2]\n",
      " [3 4]\n",
      " [5 6]\n",
      " [7 8]]\n",
      "\n",
      "[[1 2 3 4]\n",
      " [5 6 7 8]]\n",
      "\n",
      "[[1 2]\n",
      " [3 4]\n",
      " [5 6]\n",
      " [7 8]]\n",
      "\n",
      "[[1 2 3 4]\n",
      " [5 6 7 8]]\n"
     ]
    }
   ],
   "source": [
    "a = np.array([[1, 2, 3, 4], [5, 6, 7, 8]])\n",
    "print(a)\n",
    "print()\n",
    "print(a.reshape(4, 2))\n",
    "print()\n",
    "print(a.reshape(4, 2).reshape(2, 4))\n",
    "print()\n",
    "print(a.reshape(4, 2))\n",
    "print()\n",
    "print(a)"
   ]
  },
  {
   "cell_type": "code",
   "execution_count": 47,
   "metadata": {},
   "outputs": [
    {
     "name": "stdout",
     "output_type": "stream",
     "text": [
      "[[[1 2]\n",
      "  [3 4]]\n",
      "\n",
      " [[5 6]\n",
      "  [7 8]]]\n"
     ]
    }
   ],
   "source": [
    "a.resize(2, 2, 2)\n",
    "print(a) #трехмерная матрица"
   ]
  },
  {
   "cell_type": "markdown",
   "metadata": {},
   "source": [
    "Можно указать в `reshape()` указать в качестве параметра `-1`, то параметр под эту ось рассчитается автоматически."
   ]
  },
  {
   "cell_type": "markdown",
   "metadata": {},
   "source": [
    "### Математические операции над массивами\n",
    "\n",
    "Доступно все, делается все поэлементно. Операции с массивами происходят при их одинаковой размерности."
   ]
  },
  {
   "cell_type": "code",
   "execution_count": 48,
   "metadata": {},
   "outputs": [
    {
     "name": "stdout",
     "output_type": "stream",
     "text": [
      "[10 10 10]\n",
      "\n",
      "[-8 -6 -4]\n",
      "\n",
      "[ 9 16 21]\n",
      "\n",
      "[0.11111111 0.25       0.42857143]\n"
     ]
    }
   ],
   "source": [
    "a = np.array([1, 2, 3])\n",
    "b = np.array([9, 8, 7])\n",
    "print(a + b, a - b, a * b, a / b, sep='\\n\\n')"
   ]
  },
  {
   "cell_type": "markdown",
   "metadata": {},
   "source": [
    "Для математического умножения доступна операция `@` или `dot`."
   ]
  },
  {
   "cell_type": "code",
   "execution_count": 59,
   "metadata": {},
   "outputs": [
    {
     "name": "stdout",
     "output_type": "stream",
     "text": [
      "[[1. 0. 0.]\n",
      " [0. 1. 0.]\n",
      " [0. 0. 1.]]\n",
      "[[0. 1. 0.]\n",
      " [0. 0. 1.]\n",
      " [0. 0. 0.]]\n",
      "\n",
      "[[0. 1. 0.]\n",
      " [0. 0. 1.]\n",
      " [0. 0. 0.]]\n",
      "\n",
      "[[0. 1. 0.]\n",
      " [0. 0. 1.]\n",
      " [0. 0. 0.]]\n"
     ]
    }
   ],
   "source": [
    "a = np.eye(3, 3)\n",
    "print(a)\n",
    "b = np.eye(3, 3, 1)\n",
    "print(b)\n",
    "print()\n",
    "print(a @ b, a.dot(b), sep='\\n\\n')"
   ]
  },
  {
   "cell_type": "markdown",
   "metadata": {},
   "source": [
    "`transpose()` и `np.rot90(a)` транспонирует и поворачивает матрицу на `90 градусов`.\n",
    "\n",
    "`sum`, `min`, `max`, `avg` тоже работают."
   ]
  },
  {
   "cell_type": "markdown",
   "metadata": {},
   "source": [
    "Кванторы $\\forall \\text{ и } \\exist$:"
   ]
  },
  {
   "cell_type": "code",
   "execution_count": 7,
   "metadata": {},
   "outputs": [
    {
     "data": {
      "text/plain": [
       "(True, False, False, True, False, True)"
      ]
     },
     "execution_count": 7,
     "metadata": {},
     "output_type": "execute_result"
    }
   ],
   "source": [
    "c = np.array([True] * 5)\n",
    "d = np.array([False, False])\n",
    "e = np.array([True, False])\n",
    "np.all(c), np.all(d), np.all(e), np.any(c), np.any(d), np.any(e)"
   ]
  },
  {
   "cell_type": "markdown",
   "metadata": {},
   "source": [
    "Часто используется кумулятивная сумма:"
   ]
  },
  {
   "cell_type": "code",
   "execution_count": 9,
   "metadata": {},
   "outputs": [
    {
     "name": "stdout",
     "output_type": "stream",
     "text": [
      "[4 5 4 9 5]\n",
      "[ 4  9 13 22 27]\n"
     ]
    }
   ],
   "source": [
    "a = np.random.randint(1, 10, 5)\n",
    "print(a)\n",
    "print(np.cumsum(a))"
   ]
  },
  {
   "cell_type": "markdown",
   "metadata": {},
   "source": [
    "### Изменения массивов\n",
    "\n",
    "1. Сортировка возвращает новый массив.\n",
    "2. Объединение массивов.\n",
    "3. Разбиение массивов в заданных точках."
   ]
  },
  {
   "cell_type": "code",
   "execution_count": 16,
   "metadata": {},
   "outputs": [
    {
     "name": "stdout",
     "output_type": "stream",
     "text": [
      "[4 5 4 9 5]\n",
      "[4 4 5 5 9]\n",
      "[ True  True  True  True  True]\n",
      "[False False]\n",
      "[ True  True  True  True  True False False]\n",
      "[array([ True]), array([ True]), array([ True,  True,  True])]\n"
     ]
    }
   ],
   "source": [
    "print(a)\n",
    "print(np.sort(a))\n",
    "print(c)\n",
    "print(d)\n",
    "print(np.hstack((c, d)))\n",
    "print(np.hsplit(c, [1, 2]))"
   ]
  },
  {
   "cell_type": "markdown",
   "metadata": {},
   "source": [
    "Функции `delete`, `insert` и `append` возвращают новые массивы:"
   ]
  },
  {
   "cell_type": "code",
   "execution_count": 24,
   "metadata": {},
   "outputs": [
    {
     "name": "stdout",
     "output_type": "stream",
     "text": [
      "[4 5 4 9 5]\n",
      "[5 4 9]\n",
      "[4 2 5 3 4 9 5]\n",
      "[4 5 4 9 5 1 2 3 4]\n"
     ]
    }
   ],
   "source": [
    "print(a)\n",
    "print(np.delete(a, [0, 4])) #индексы\n",
    "print(np.insert(a, [1, 2], [2, 3]))\n",
    "print(np.append(a, [1, 2, 3, 4]))"
   ]
  },
  {
   "cell_type": "markdown",
   "metadata": {},
   "source": [
    "Здесь происходит передача массива по ссылке, а дальше показано, как копировать массив:"
   ]
  },
  {
   "cell_type": "code",
   "execution_count": 28,
   "metadata": {},
   "outputs": [
    {
     "name": "stdout",
     "output_type": "stream",
     "text": [
      "[10  5  4  9  5]\n",
      "[10  5  4  9  5]\n",
      "[10  5  4  9  5]\n"
     ]
    }
   ],
   "source": [
    "print(a)\n",
    "b = a[:]\n",
    "print(b)\n",
    "b[0] = 10\n",
    "print(a)"
   ]
  },
  {
   "cell_type": "code",
   "execution_count": null,
   "metadata": {},
   "outputs": [
    {
     "name": "stdout",
     "output_type": "stream",
     "text": [
      "[10  5  4  9  5]\n",
      "[10  5  4  9  5]\n",
      "[10  5  4  9  5]\n"
     ]
    }
   ],
   "source": [
    "print(a)\n",
    "b = a[:]\n",
    "print(b)\n",
    "b[0] = 10\n",
    "print(a)"
   ]
  },
  {
   "cell_type": "code",
   "execution_count": 30,
   "metadata": {},
   "outputs": [
    {
     "name": "stdout",
     "output_type": "stream",
     "text": [
      "[0 5 4 9 5]\n",
      "[10  5  4  9  5]\n"
     ]
    }
   ],
   "source": [
    "b = a.copy()\n",
    "b[0] = 0\n",
    "print(b)\n",
    "print(a)"
   ]
  },
  {
   "cell_type": "markdown",
   "metadata": {},
   "source": [
    "### Передача оси в качестве аргумента функции.\n",
    "\n",
    "Все постоянно путаются, какая ось за что отвечает. Ось 0 или `axis=0` отвечает за вертикальный лифт, то есть, если мы по ней двигаемся, то считаем строки. Ось 1 или `axis=1` отвечает за горизонтальный лифт (считаем столбцы). Вот примеры на понимание:"
   ]
  },
  {
   "cell_type": "code",
   "execution_count": 64,
   "metadata": {},
   "outputs": [
    {
     "name": "stdout",
     "output_type": "stream",
     "text": [
      "[[1 2 3]\n",
      " [4 5 6]\n",
      " [7 8 9]]\n",
      "\n",
      "[12 15 18]\n",
      "[ 6 15 24]\n",
      "[1 2 3]\n",
      "[3 6 9]\n"
     ]
    }
   ],
   "source": [
    "a = np.arange(1, 10).reshape(3, 3)\n",
    "print(a)\n",
    "print()\n",
    "print(a.sum(axis=0))  # сумма чисел в каждом столбце\n",
    "print(a.sum(axis=1))  # сумма чисел в каждой строке\n",
    "print(a.min(axis=0))  # минимум по столбцам\n",
    "print(a.max(axis=1))  # максимум по строкам"
   ]
  },
  {
   "cell_type": "markdown",
   "metadata": {},
   "source": [
    "### Перевод в одномерный массив.\n",
    "\n",
    "На самом деле все массивы из `numpy` хранятся одномерно в памяти.\n",
    "\n",
    "`flat` делает любую матрицу одномерной:"
   ]
  },
  {
   "cell_type": "code",
   "execution_count": 66,
   "metadata": {},
   "outputs": [
    {
     "name": "stdout",
     "output_type": "stream",
     "text": [
      "[[1 2 3]\n",
      " [4 5 6]\n",
      " [7 8 9]]\n",
      "[1, 2, 3, 4, 5, 6, 7, 8, 9]\n"
     ]
    }
   ],
   "source": [
    "print(a)\n",
    "print([elem for elem in a.flat])"
   ]
  },
  {
   "cell_type": "markdown",
   "metadata": {},
   "source": [
    "### Линейная алгебра\n",
    "\n",
    "За это отвечает пакет `numpy.linalg`.\n",
    "\n",
    "Начнем с определителя матрицы."
   ]
  },
  {
   "cell_type": "code",
   "execution_count": 9,
   "metadata": {},
   "outputs": [
    {
     "name": "stdout",
     "output_type": "stream",
     "text": [
      "[[-9 -4  3]\n",
      " [ 2 10 12]\n",
      " [29  0 22]]\n",
      "-4066.0000000000014\n"
     ]
    }
   ],
   "source": [
    "a = np.array([-9, -4, 3, 2, 10, 12, 29, 0, 22]).reshape(3, 3)\n",
    "print(a)\n",
    "print(np.linalg.det(a))"
   ]
  },
  {
   "cell_type": "markdown",
   "metadata": {},
   "source": [
    "Продолжим обратной матрицей:"
   ]
  },
  {
   "cell_type": "code",
   "execution_count": 10,
   "metadata": {},
   "outputs": [
    {
     "data": {
      "text/plain": [
       "array([[-0.05410723, -0.02164289,  0.01918347],\n",
       "       [-0.07476636,  0.07009346, -0.02803738],\n",
       "       [ 0.07132317,  0.02852927,  0.02016724]])"
      ]
     },
     "execution_count": 10,
     "metadata": {},
     "output_type": "execute_result"
    }
   ],
   "source": [
    "np.linalg.inv(a)"
   ]
  },
  {
   "cell_type": "markdown",
   "metadata": {},
   "source": [
    "Решение системы $A*\\vec{x} = \\vec{v}$:"
   ]
  },
  {
   "cell_type": "code",
   "execution_count": 25,
   "metadata": {},
   "outputs": [
    {
     "name": "stdout",
     "output_type": "stream",
     "text": [
      "[-0.0398426  -0.01869159  0.18888342]\n"
     ]
    },
    {
     "data": {
      "text/plain": [
       "True"
      ]
     },
     "execution_count": 25,
     "metadata": {},
     "output_type": "execute_result"
    }
   ],
   "source": [
    "x = np.linalg.solve(a, [1, 2, 3])\n",
    "print(x)\n",
    "# Проверим\n",
    "np.all(np.round(a @ x - [1, 2, 3]) == 0)"
   ]
  },
  {
   "cell_type": "markdown",
   "metadata": {},
   "source": [
    "Собственные значения и собственные векторы. Обозначнения из уравнения $A * \\vec{x}_i = \\lambda_i * \\vec{x}_i$:"
   ]
  },
  {
   "cell_type": "code",
   "execution_count": 28,
   "metadata": {},
   "outputs": [
    {
     "name": "stdout",
     "output_type": "stream",
     "text": [
      "[-12.88749125  20.48899172  15.39849953]\n",
      "\n",
      "[[ 0.7428067   0.03443904  0.09598035]\n",
      " [ 0.25882371 -0.74962109 -0.90167115]\n",
      " [-0.61745323 -0.66097063 -0.421636  ]]\n"
     ]
    }
   ],
   "source": [
    "lambdas, x = np.linalg.eig(a)\n",
    "print(lambdas)\n",
    "print()\n",
    "print(x)"
   ]
  },
  {
   "cell_type": "markdown",
   "metadata": {},
   "source": [
    "Функция `diag` работает в две стороны: из одномерного массива строит диагональную матрицу и из матрицы достает диагональные элементы в одномерный массив."
   ]
  },
  {
   "cell_type": "code",
   "execution_count": 35,
   "metadata": {},
   "outputs": [
    {
     "name": "stdout",
     "output_type": "stream",
     "text": [
      "[[-9 -4  3]\n",
      " [ 2 10 12]\n",
      " [29  0 22]]\n",
      "[-9 10 22]\n",
      "[[-9  0  0]\n",
      " [ 0 10  0]\n",
      " [ 0  0 22]]\n"
     ]
    },
    {
     "ename": "TypeError",
     "evalue": "diag() got an unexpected keyword argument 'size'",
     "output_type": "error",
     "traceback": [
      "\u001b[0;31m---------------------------------------------------------------------------\u001b[0m",
      "\u001b[0;31mTypeError\u001b[0m                                 Traceback (most recent call last)",
      "Cell \u001b[0;32mIn[35], line 4\u001b[0m\n\u001b[1;32m      2\u001b[0m \u001b[38;5;28mprint\u001b[39m(np\u001b[38;5;241m.\u001b[39mdiag(a))\n\u001b[1;32m      3\u001b[0m \u001b[38;5;28mprint\u001b[39m(np\u001b[38;5;241m.\u001b[39mdiag(np\u001b[38;5;241m.\u001b[39mdiag(a)))\n\u001b[0;32m----> 4\u001b[0m \u001b[38;5;28mprint\u001b[39m(\u001b[43mnp\u001b[49m\u001b[38;5;241;43m.\u001b[39;49m\u001b[43mdiag\u001b[49m\u001b[43m(\u001b[49m\u001b[43mnp\u001b[49m\u001b[38;5;241;43m.\u001b[39;49m\u001b[43mdiag\u001b[49m\u001b[43m(\u001b[49m\u001b[43ma\u001b[49m\u001b[43m)\u001b[49m\u001b[43m,\u001b[49m\u001b[43m \u001b[49m\u001b[43mk\u001b[49m\u001b[38;5;241;43m=\u001b[39;49m\u001b[38;5;241;43m1\u001b[39;49m\u001b[43m,\u001b[49m\u001b[43m \u001b[49m\u001b[43msize\u001b[49m\u001b[38;5;241;43m=\u001b[39;49m\u001b[43m(\u001b[49m\u001b[38;5;241;43m3\u001b[39;49m\u001b[43m,\u001b[49m\u001b[43m \u001b[49m\u001b[38;5;241;43m3\u001b[39;49m\u001b[43m)\u001b[49m\u001b[43m)\u001b[49m)\n\u001b[1;32m      5\u001b[0m \u001b[38;5;28mprint\u001b[39m(np\u001b[38;5;241m.\u001b[39mdiag(np\u001b[38;5;241m.\u001b[39mdiag(a), k\u001b[38;5;241m=\u001b[39m\u001b[38;5;241m-\u001b[39m\u001b[38;5;241m1\u001b[39m))\n",
      "\u001b[0;31mTypeError\u001b[0m: diag() got an unexpected keyword argument 'size'"
     ]
    }
   ],
   "source": [
    "print(a)\n",
    "print(np.diag(a))\n",
    "print(np.diag(np.diag(a)))\n",
    "print(np.diag(np.diag(a), k=1))\n",
    "print(np.diag(np.diag(a), k=-1))"
   ]
  },
  {
   "cell_type": "markdown",
   "metadata": {},
   "source": [
    "### Интегрирование"
   ]
  },
  {
   "cell_type": "code",
   "execution_count": 37,
   "metadata": {},
   "outputs": [],
   "source": [
    "from scipy.integrate import quad, odeint\n",
    "from scipy.special import erf"
   ]
  },
  {
   "cell_type": "code",
   "execution_count": 45,
   "metadata": {},
   "outputs": [],
   "source": [
    "def f(x):\n",
    "    return 1/np.sqrt(2 * np.pi) * np.exp(-x**2/2)"
   ]
  },
  {
   "cell_type": "markdown",
   "metadata": {},
   "source": [
    "Интегрирование на отрезке от `a` до `b`. `res` - результат интегрирования, `err` - погрешность."
   ]
  },
  {
   "cell_type": "code",
   "execution_count": 47,
   "metadata": {},
   "outputs": [
    {
     "name": "stdout",
     "output_type": "stream",
     "text": [
      "0.9999999999999997 1.0178191380347127e-08 0.49999999999999983 5.089095690173563e-09\n"
     ]
    }
   ],
   "source": [
    "a = -np.inf\n",
    "b = np.inf\n",
    "res, err = quad(f, a, b)\n",
    "res_, err_ = quad(f, 0, b)\n",
    "print(res, err, res_, err_)"
   ]
  },
  {
   "cell_type": "markdown",
   "metadata": {},
   "source": [
    "### Сохранение в файл и чтение из файла"
   ]
  },
  {
   "cell_type": "code",
   "execution_count": 49,
   "metadata": {},
   "outputs": [
    {
     "name": "stdout",
     "output_type": "stream",
     "text": [
      "[[ 0.7428067   0.03443904  0.09598035]\n",
      " [ 0.25882371 -0.74962109 -0.90167115]\n",
      " [-0.61745323 -0.66097063 -0.421636  ]]\n"
     ]
    }
   ],
   "source": [
    "print(x)"
   ]
  },
  {
   "cell_type": "code",
   "execution_count": 52,
   "metadata": {},
   "outputs": [
    {
     "name": "stdout",
     "output_type": "stream",
     "text": [
      "0.74;0.03;0.10\n",
      "0.26;-0.75;-0.90\n",
      "-0.62;-0.66;-0.42\n"
     ]
    }
   ],
   "source": [
    "np.savetxt('123.txt', x, fmt='%.2f', delimiter=';')\n",
    "!cat 123.txt"
   ]
  },
  {
   "cell_type": "code",
   "execution_count": 55,
   "metadata": {},
   "outputs": [
    {
     "data": {
      "text/plain": [
       "array([[ 0.74,  0.03,  0.1 ],\n",
       "       [ 0.26, -0.75, -0.9 ],\n",
       "       [-0.62, -0.66, -0.42]])"
      ]
     },
     "execution_count": 55,
     "metadata": {},
     "output_type": "execute_result"
    }
   ],
   "source": [
    "y = np.loadtxt('123.txt', delimiter=';')\n",
    "y"
   ]
  }
 ],
 "metadata": {
  "kernelspec": {
   "display_name": "Python 3",
   "language": "python",
   "name": "python3"
  },
  "language_info": {
   "codemirror_mode": {
    "name": "ipython",
    "version": 3
   },
   "file_extension": ".py",
   "mimetype": "text/x-python",
   "name": "python",
   "nbconvert_exporter": "python",
   "pygments_lexer": "ipython3",
   "version": "3.12.3"
  }
 },
 "nbformat": 4,
 "nbformat_minor": 2
}
